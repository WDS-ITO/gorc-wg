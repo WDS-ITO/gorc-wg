{
 "cells": [
  {
   "cell_type": "markdown",
   "id": "223ab76a",
   "metadata": {},
   "source": [
    "# Sources Overlap graphs\n",
    "\n",
    "#### Since the pie charts are too busy and don't give enough information, try for a network graph using pyvis."
   ]
  },
  {
   "cell_type": "markdown",
   "id": "f6c20472",
   "metadata": {},
   "source": [
    "#### Want to import from the google sheet or at least a version of it that sn't too far off. Could import as a matrix, the rows and column headers are nodes, and the existance of items in cells are edges. Would be great to colour attributes and features by essential element, and to have their relative size dictated by the number of edges connected to them."
   ]
  },
  {
   "cell_type": "code",
   "execution_count": 25,
   "id": "e0e123cf",
   "metadata": {},
   "outputs": [],
   "source": [
    "import pandas as pd\n",
    "import numpy as np\n",
    "from scipy import sparse\n",
    "import networkx as nx\n",
    "from pyvis.network import Network"
   ]
  },
  {
   "cell_type": "code",
   "execution_count": 31,
   "id": "3ef1eb80",
   "metadata": {
    "scrolled": true
   },
   "outputs": [
    {
     "name": "stdout",
     "output_type": "stream",
     "text": [
      "[[1 0 1 ... 0 0 0]\n",
      " [1 0 1 ... 0 0 0]\n",
      " [1 0 1 ... 0 0 0]\n",
      " ...\n",
      " [0 0 0 ... 0 1 0]\n",
      " [0 0 0 ... 0 0 1]\n",
      " [0 0 0 ... 0 0 0]]\n"
     ]
    }
   ],
   "source": [
    "df = pd.read_excel('SourcesOverlapNetwork1.xlsx', dtype=int)\n",
    "print(df.values)"
   ]
  },
  {
   "cell_type": "markdown",
   "id": "03d7e7d3",
   "metadata": {},
   "source": [
    "#### This is a bipartite graph (https://en.wikipedia.org/wiki/Bipartite_graph), following the suggestion here: https://stackoverflow.com/questions/59862598/importing-non-square-adjacency-matrix-into-networkx-python"
   ]
  },
  {
   "cell_type": "code",
   "execution_count": 33,
   "id": "6197c816",
   "metadata": {
    "scrolled": true
   },
   "outputs": [
    {
     "name": "stdout",
     "output_type": "stream",
     "text": [
      "Local cdn resources have problems on chrome/safari when used in jupyter-notebook. \n"
     ]
    }
   ],
   "source": [
    "sm = sparse.csr_matrix(df.values)\n",
    "graphdata = nx.algorithms.bipartite.matrix.from_biadjacency_matrix(sm)\n",
    "\n",
    "# visualize it with pyvis\n",
    "Netdata = Network(height='800px', width='100%', bgcolor='#222222', font_color='white',notebook=True)\n",
    "Netdata.barnes_hut()\n",
    "for n in graphdata.nodes:\n",
    "    Netdata.add_node(int(n))\n",
    "for e in graphdata.edges:\n",
    "    Netdata.add_edge(int(e[0]), int(e[1]))\n",
    "    \n",
    "Netdata.write_html('SourcesOverlap.html')"
   ]
  },
  {
   "cell_type": "markdown",
   "id": "8a437157",
   "metadata": {},
   "source": [
    "## Test\n",
    "\n",
    "#### From https://stackoverflow.com/questions/63492418/plotting-a-graph-with-neworkx-using-a-csv-file-as-co-occurence-matrix"
   ]
  },
  {
   "cell_type": "code",
   "execution_count": 11,
   "id": "65c06720",
   "metadata": {},
   "outputs": [
    {
     "name": "stdout",
     "output_type": "stream",
     "text": [
      "Local cdn resources have problems on chrome/safari when used in jupyter-notebook. \n"
     ]
    },
    {
     "data": {
      "text/html": [
       "\n",
       "        <iframe\n",
       "            width=\"100%\"\n",
       "            height=\"100%\"\n",
       "            src=\"coocc-graph.html\"\n",
       "            frameborder=\"0\"\n",
       "            allowfullscreen\n",
       "            \n",
       "        ></iframe>\n",
       "        "
      ],
      "text/plain": [
       "<IPython.lib.display.IFrame at 0x22a23040d60>"
      ]
     },
     "execution_count": 11,
     "metadata": {},
     "output_type": "execute_result"
    }
   ],
   "source": [
    "# creating a dummy adjacency matrix of shape 20x20 with random values of 0 to 3\n",
    "adj_mat = np.random.randint(0, 3, size=(20, 20))\n",
    "np.fill_diagonal(adj_mat, 0)  # setting the diagonal values as 0\n",
    "dftest = pd.DataFrame(adj_mat)\n",
    "\n",
    "# create a graph from your dataframe\n",
    "G = nx.from_pandas_adjacency(dftest)\n",
    "\n",
    "# visualize it with pyvis\n",
    "N = Network(height='100%', width='100%', bgcolor='#222222', font_color='white',notebook=True)\n",
    "N.barnes_hut()\n",
    "for n in G.nodes:\n",
    "    N.add_node(int(n))\n",
    "for e in G.edges:\n",
    "    N.add_edge(int(e[0]), int(e[1]))\n",
    "\n",
    "#N.write_html('coocc-graph.html')\n",
    "N.show('coocc-graph.html')"
   ]
  },
  {
   "cell_type": "code",
   "execution_count": 12,
   "id": "a16327d8",
   "metadata": {},
   "outputs": [
    {
     "name": "stdout",
     "output_type": "stream",
     "text": [
      "    0   1   2   3   4   5   6   7   8   9   10  11  12  13  14  15  16  17  \\\n",
      "0    0   0   1   1   2   2   0   2   0   2   2   1   0   1   1   1   0   2   \n",
      "1    1   0   1   1   1   1   0   0   1   1   0   1   0   1   0   2   1   2   \n",
      "2    2   1   0   0   2   2   2   2   2   1   2   0   1   2   2   1   0   0   \n",
      "3    2   2   1   0   2   1   1   1   2   0   2   0   2   0   1   1   2   0   \n",
      "4    1   2   1   1   0   0   1   2   2   2   1   1   2   1   1   2   1   0   \n",
      "5    1   1   1   0   2   0   0   1   2   2   0   1   1   1   0   1   1   0   \n",
      "6    2   2   2   2   2   0   0   0   0   2   2   0   0   1   2   2   0   2   \n",
      "7    2   0   0   2   1   0   0   0   1   0   0   1   0   0   0   2   1   1   \n",
      "8    0   2   0   1   2   0   0   0   0   0   2   2   2   2   0   1   1   1   \n",
      "9    0   2   1   2   2   2   1   2   2   0   1   1   1   0   2   2   0   1   \n",
      "10   2   0   0   0   1   0   0   1   0   0   0   2   0   2   2   1   2   1   \n",
      "11   0   0   0   1   1   2   1   0   0   1   2   0   0   0   1   1   2   1   \n",
      "12   1   1   2   1   0   2   2   0   0   1   1   2   0   1   0   1   1   0   \n",
      "13   0   2   1   1   1   0   1   0   2   1   2   1   1   0   2   2   1   1   \n",
      "14   1   2   2   0   2   1   2   1   0   1   0   2   1   0   0   0   0   1   \n",
      "15   2   1   2   0   0   0   1   1   0   1   2   2   0   0   2   0   2   1   \n",
      "16   1   2   2   2   1   1   2   0   2   2   0   1   2   2   2   0   0   1   \n",
      "17   0   0   2   1   0   0   0   2   1   1   1   2   0   0   0   2   1   0   \n",
      "18   0   0   2   0   0   0   1   1   0   2   0   0   2   0   0   1   0   0   \n",
      "19   0   1   2   1   0   2   1   0   0   1   0   0   0   0   0   1   2   2   \n",
      "\n",
      "    18  19  \n",
      "0    2   2  \n",
      "1    0   0  \n",
      "2    2   2  \n",
      "3    0   1  \n",
      "4    0   2  \n",
      "5    1   0  \n",
      "6    1   2  \n",
      "7    2   2  \n",
      "8    0   2  \n",
      "9    2   0  \n",
      "10   0   2  \n",
      "11   0   0  \n",
      "12   0   2  \n",
      "13   2   0  \n",
      "14   0   0  \n",
      "15   1   1  \n",
      "16   1   0  \n",
      "17   1   2  \n",
      "18   0   1  \n",
      "19   0   0  \n"
     ]
    }
   ],
   "source": [
    "print(dftest)"
   ]
  },
  {
   "cell_type": "code",
   "execution_count": 13,
   "id": "4be9bd06",
   "metadata": {},
   "outputs": [
    {
     "name": "stdout",
     "output_type": "stream",
     "text": [
      "Graph with 20 nodes and 166 edges\n"
     ]
    }
   ],
   "source": [
    "print(G)"
   ]
  },
  {
   "cell_type": "code",
   "execution_count": 19,
   "id": "d2664931",
   "metadata": {},
   "outputs": [
    {
     "name": "stdout",
     "output_type": "stream",
     "text": [
      "[[0 0 1 1 2 2 0 2 0 2 2 1 0 1 1 1 0 2 2 2]\n",
      " [1 0 1 1 1 1 0 0 1 1 0 1 0 1 0 2 1 2 0 0]\n",
      " [2 1 0 0 2 2 2 2 2 1 2 0 1 2 2 1 0 0 2 2]\n",
      " [2 2 1 0 2 1 1 1 2 0 2 0 2 0 1 1 2 0 0 1]\n",
      " [1 2 1 1 0 0 1 2 2 2 1 1 2 1 1 2 1 0 0 2]\n",
      " [1 1 1 0 2 0 0 1 2 2 0 1 1 1 0 1 1 0 1 0]\n",
      " [2 2 2 2 2 0 0 0 0 2 2 0 0 1 2 2 0 2 1 2]\n",
      " [2 0 0 2 1 0 0 0 1 0 0 1 0 0 0 2 1 1 2 2]\n",
      " [0 2 0 1 2 0 0 0 0 0 2 2 2 2 0 1 1 1 0 2]\n",
      " [0 2 1 2 2 2 1 2 2 0 1 1 1 0 2 2 0 1 2 0]\n",
      " [2 0 0 0 1 0 0 1 0 0 0 2 0 2 2 1 2 1 0 2]\n",
      " [0 0 0 1 1 2 1 0 0 1 2 0 0 0 1 1 2 1 0 0]\n",
      " [1 1 2 1 0 2 2 0 0 1 1 2 0 1 0 1 1 0 0 2]\n",
      " [0 2 1 1 1 0 1 0 2 1 2 1 1 0 2 2 1 1 2 0]\n",
      " [1 2 2 0 2 1 2 1 0 1 0 2 1 0 0 0 0 1 0 0]\n",
      " [2 1 2 0 0 0 1 1 0 1 2 2 0 0 2 0 2 1 1 1]\n",
      " [1 2 2 2 1 1 2 0 2 2 0 1 2 2 2 0 0 1 1 0]\n",
      " [0 0 2 1 0 0 0 2 1 1 1 2 0 0 0 2 1 0 1 2]\n",
      " [0 0 2 0 0 0 1 1 0 2 0 0 2 0 0 1 0 0 0 1]\n",
      " [0 1 2 1 0 2 1 0 0 1 0 0 0 0 0 1 2 2 0 0]]\n"
     ]
    }
   ],
   "source": [
    "print(adj_mat)"
   ]
  },
  {
   "cell_type": "code",
   "execution_count": 14,
   "id": "c1488148",
   "metadata": {},
   "outputs": [
    {
     "name": "stdout",
     "output_type": "stream",
     "text": [
      "0\n",
      "1\n",
      "2\n",
      "3\n",
      "4\n",
      "5\n",
      "6\n",
      "7\n",
      "8\n",
      "9\n",
      "10\n",
      "11\n",
      "12\n",
      "13\n",
      "14\n",
      "15\n",
      "16\n",
      "17\n",
      "18\n",
      "19\n",
      "(0, 2)\n",
      "(0, 3)\n",
      "(0, 4)\n",
      "(0, 5)\n",
      "(0, 7)\n",
      "(0, 9)\n",
      "(0, 10)\n",
      "(0, 11)\n",
      "(0, 13)\n",
      "(0, 14)\n",
      "(0, 15)\n",
      "(0, 17)\n",
      "(0, 18)\n",
      "(0, 19)\n",
      "(0, 1)\n",
      "(0, 6)\n",
      "(0, 12)\n",
      "(0, 16)\n",
      "(1, 2)\n",
      "(1, 3)\n",
      "(1, 4)\n",
      "(1, 5)\n",
      "(1, 8)\n",
      "(1, 9)\n",
      "(1, 11)\n",
      "(1, 13)\n",
      "(1, 15)\n",
      "(1, 16)\n",
      "(1, 17)\n",
      "(1, 6)\n",
      "(1, 12)\n",
      "(1, 14)\n",
      "(1, 19)\n",
      "(2, 4)\n",
      "(2, 5)\n",
      "(2, 6)\n",
      "(2, 7)\n",
      "(2, 8)\n",
      "(2, 9)\n",
      "(2, 10)\n",
      "(2, 12)\n",
      "(2, 13)\n",
      "(2, 14)\n",
      "(2, 15)\n",
      "(2, 18)\n",
      "(2, 19)\n",
      "(2, 3)\n",
      "(2, 16)\n",
      "(2, 17)\n",
      "(3, 4)\n",
      "(3, 5)\n",
      "(3, 6)\n",
      "(3, 7)\n",
      "(3, 8)\n",
      "(3, 10)\n",
      "(3, 12)\n",
      "(3, 14)\n",
      "(3, 15)\n",
      "(3, 16)\n",
      "(3, 19)\n",
      "(3, 9)\n",
      "(3, 11)\n",
      "(3, 13)\n",
      "(3, 17)\n",
      "(4, 6)\n",
      "(4, 7)\n",
      "(4, 8)\n",
      "(4, 9)\n",
      "(4, 10)\n",
      "(4, 11)\n",
      "(4, 12)\n",
      "(4, 13)\n",
      "(4, 14)\n",
      "(4, 15)\n",
      "(4, 16)\n",
      "(4, 19)\n",
      "(4, 5)\n",
      "(5, 7)\n",
      "(5, 8)\n",
      "(5, 9)\n",
      "(5, 11)\n",
      "(5, 12)\n",
      "(5, 13)\n",
      "(5, 15)\n",
      "(5, 16)\n",
      "(5, 18)\n",
      "(5, 14)\n",
      "(5, 19)\n",
      "(6, 9)\n",
      "(6, 10)\n",
      "(6, 13)\n",
      "(6, 14)\n",
      "(6, 15)\n",
      "(6, 17)\n",
      "(6, 18)\n",
      "(6, 19)\n",
      "(6, 11)\n",
      "(6, 12)\n",
      "(6, 16)\n",
      "(7, 8)\n",
      "(7, 11)\n",
      "(7, 15)\n",
      "(7, 16)\n",
      "(7, 17)\n",
      "(7, 18)\n",
      "(7, 19)\n",
      "(7, 9)\n",
      "(7, 10)\n",
      "(7, 14)\n",
      "(8, 10)\n",
      "(8, 11)\n",
      "(8, 12)\n",
      "(8, 13)\n",
      "(8, 15)\n",
      "(8, 16)\n",
      "(8, 17)\n",
      "(8, 19)\n",
      "(8, 9)\n",
      "(9, 10)\n",
      "(9, 11)\n",
      "(9, 12)\n",
      "(9, 14)\n",
      "(9, 15)\n",
      "(9, 17)\n",
      "(9, 18)\n",
      "(9, 13)\n",
      "(9, 16)\n",
      "(9, 19)\n",
      "(10, 11)\n",
      "(10, 13)\n",
      "(10, 14)\n",
      "(10, 15)\n",
      "(10, 16)\n",
      "(10, 17)\n",
      "(10, 19)\n",
      "(10, 12)\n",
      "(11, 14)\n",
      "(11, 15)\n",
      "(11, 16)\n",
      "(11, 17)\n",
      "(11, 12)\n",
      "(11, 13)\n",
      "(12, 13)\n",
      "(12, 15)\n",
      "(12, 16)\n",
      "(12, 19)\n",
      "(12, 14)\n",
      "(12, 18)\n",
      "(13, 14)\n",
      "(13, 15)\n",
      "(13, 16)\n",
      "(13, 17)\n",
      "(13, 18)\n",
      "(14, 17)\n",
      "(14, 15)\n",
      "(14, 16)\n",
      "(15, 16)\n",
      "(15, 17)\n",
      "(15, 18)\n",
      "(15, 19)\n",
      "(16, 17)\n",
      "(16, 18)\n",
      "(16, 19)\n",
      "(17, 18)\n",
      "(17, 19)\n",
      "(18, 19)\n"
     ]
    }
   ],
   "source": [
    "for n in G.nodes:\n",
    "    print(n)\n",
    "for e in G.edges:\n",
    "    print(e)"
   ]
  },
  {
   "cell_type": "code",
   "execution_count": null,
   "id": "aca7b70f",
   "metadata": {},
   "outputs": [],
   "source": []
  }
 ],
 "metadata": {
  "kernelspec": {
   "display_name": "Python 3 (ipykernel)",
   "language": "python",
   "name": "python3"
  },
  "language_info": {
   "codemirror_mode": {
    "name": "ipython",
    "version": 3
   },
   "file_extension": ".py",
   "mimetype": "text/x-python",
   "name": "python",
   "nbconvert_exporter": "python",
   "pygments_lexer": "ipython3",
   "version": "3.9.12"
  }
 },
 "nbformat": 4,
 "nbformat_minor": 5
}
